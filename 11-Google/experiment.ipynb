{
 "cells": [
  {
   "cell_type": "code",
   "execution_count": 3,
   "metadata": {},
   "outputs": [],
   "source": [
    "# Load env data\n",
    "import os\n",
    "from dotenv import load_dotenv\n",
    "load_dotenv()\n",
    "\n",
    "# Access Google API Key\n",
    "os.environ[\"GOOGLE_API_KEY\"] = os.getenv(\"GOOGLE_API_KEY\")"
   ]
  },
  {
   "cell_type": "code",
   "execution_count": 6,
   "metadata": {},
   "outputs": [
    {
     "data": {
      "text/plain": [
       "ChatGoogleGenerativeAI(model='models/gemini-pro', google_api_key=SecretStr('**********'), client=<google.ai.generativelanguage_v1beta.services.generative_service.client.GenerativeServiceClient object at 0x724590524bc0>, default_metadata=())"
      ]
     },
     "execution_count": 6,
     "metadata": {},
     "output_type": "execute_result"
    }
   ],
   "source": [
    "from langchain_google_genai import ChatGoogleGenerativeAI\n",
    "\n",
    "llm = ChatGoogleGenerativeAI(model=\"gemini-pro\")\n",
    "llm"
   ]
  },
  {
   "cell_type": "code",
   "execution_count": 9,
   "metadata": {},
   "outputs": [
    {
     "data": {
      "text/plain": [
       "AIMessage(content='**Generative AI** (Generative Artificial Intelligence) is a type of AI that can create new and original content from scratch. Unlike traditional AI systems that are designed to perform specific tasks based on pre-defined rules or training data, generative AI models are able to generate novel and unique outputs that go beyond what they have been explicitly programmed to do.\\n\\n**How Generative AI Works:**\\n\\nGenerative AI models are typically trained on vast datasets of text, images, audio, or other data. They learn patterns, relationships, and structures within the data and use this knowledge to generate new and original content. The most common types of generative AI models include:\\n\\n* **Generative Adversarial Networks (GANs):** Two neural networks compete against each other to generate realistic data that can fool a discriminator.\\n* **Variational Autoencoders (VAEs):** Encode input data into a latent space, which is then used to generate new data with similar characteristics.\\n* **Transformer-based Models (e.g., GPT-3):** Use attention mechanisms to generate text, code, or other sequences by predicting the next element based on the context.\\n\\n**Applications of Generative AI:**\\n\\nGenerative AI has a wide range of applications across various industries and domains, including:\\n\\n* **Art and Entertainment:** Creating realistic images, videos, music, and games.\\n* **Natural Language Processing (NLP):** Generating text, translating languages, and writing chatbots.\\n* **Drug Discovery:** Designing new molecules and predicting their properties.\\n* **Fashion:** Designing new clothing and accessories.\\n* **Education:** Generating personalized learning materials and assessment questions.\\n* **Healthcare:** Diagnosing diseases, developing personalized treatments, and predicting patient outcomes.\\n\\n**Key Features of Generative AI:**\\n\\n* **Novelty:** Can generate content that is unique and has not been seen before.\\n* **Adaptability:** Can generate content in different styles, genres, and formats.\\n* **Diversity:** Can generate a wide range of content with varying characteristics.\\n* **Credibility:** Can generate content that is realistic and believable.\\n* **Scalability:** Can generate large amounts of content quickly and efficiently.\\n\\nGenerative AI is a rapidly evolving field with the potential to revolutionize many industries. However, it also raises ethical considerations regarding the authenticity, ownership, and potential misuse of generated content.', additional_kwargs={}, response_metadata={'prompt_feedback': {'block_reason': 0, 'safety_ratings': []}, 'finish_reason': 'STOP', 'safety_ratings': [{'category': 'HARM_CATEGORY_SEXUALLY_EXPLICIT', 'probability': 'NEGLIGIBLE', 'blocked': False}, {'category': 'HARM_CATEGORY_HATE_SPEECH', 'probability': 'NEGLIGIBLE', 'blocked': False}, {'category': 'HARM_CATEGORY_HARASSMENT', 'probability': 'NEGLIGIBLE', 'blocked': False}, {'category': 'HARM_CATEGORY_DANGEROUS_CONTENT', 'probability': 'NEGLIGIBLE', 'blocked': False}]}, id='run-9adcf047-7b56-4cd0-b3a5-82873741a3e1-0', usage_metadata={'input_tokens': 6, 'output_tokens': 487, 'total_tokens': 493, 'input_token_details': {'cache_read': 0}})"
      ]
     },
     "execution_count": 9,
     "metadata": {},
     "output_type": "execute_result"
    }
   ],
   "source": [
    "response = llm.invoke(\"What is generative ai?\")\n",
    "response"
   ]
  },
  {
   "cell_type": "markdown",
   "metadata": {},
   "source": [
    "### With Output parser"
   ]
  },
  {
   "cell_type": "code",
   "execution_count": 11,
   "metadata": {},
   "outputs": [
    {
     "data": {
      "text/plain": [
       "'**Generative AI**\\n\\nGenerative AI, also known as generative adversarial networks (GANs), is a type of machine learning that can create new data or content from scratch. Unlike traditional AI models that focus on classifying or predicting existing data, generative AI can generate novel and unique outputs.\\n\\n**How it Works:**\\n\\nGenerative AI uses two neural networks:\\n\\n* **Generator Network:** Creates new data or content based on a given distribution or input.\\n* **Discriminator Network:** Evaluates the generated data and tries to distinguish it from real data.\\n\\nThe generator and discriminator networks compete against each other in an adversarial process. The generator aims to create data that fools the discriminator, while the discriminator aims to correctly identify the generated data.\\n\\n**Applications:**\\n\\nGenerative AI has numerous applications, including:\\n\\n* **Image Generation:** Creating realistic images, portraits, and scenes.\\n* **Text Generation:** Generating articles, stories, and poetry.\\n* **Music Generation:** Composing new musical pieces and styles.\\n* **Code Generation:** Creating new code snippets and algorithms.\\n* **Data Augmentation:** Generating synthetic data to enhance existing datasets.\\n* **Image Editing:** Stylizing, enhancing, and manipulating images.\\n* **Video Generation:** Creating videos from static images or text prompts.\\n\\n**Benefits:**\\n\\n* **Creativity and Innovation:** Enables the creation of unique and novel content that humans may not have imagined.\\n* **Data Augmentation:** Provides synthetic data that can improve the performance of AI models.\\n* **Efficiency:** Can automate the creation of content, freeing up human resources for other tasks.\\n\\n**Challenges:**\\n\\n* **Bias and Fairness:** Generative AI can inherit biases from the data it is trained on, leading to unfair or discriminatory outputs.\\n* **Intellectual Property:** Determining the ownership and rights to content generated by AI can be complex.\\n* **Overfitting:** Generative AI models can sometimes overfit to the training data, resulting in unrealistic or repetitive outputs.'"
      ]
     },
     "execution_count": 11,
     "metadata": {},
     "output_type": "execute_result"
    }
   ],
   "source": [
    "from langchain_core.output_parsers import StrOutputParser\n",
    "\n",
    "output_parser = StrOutputParser()\n",
    "\n",
    "# Create chain\n",
    "chain = llm | output_parser\n",
    "response = chain.invoke(\"What is generative ai?\")\n",
    "response"
   ]
  },
  {
   "cell_type": "markdown",
   "metadata": {},
   "source": [
    "### With prompt template"
   ]
  },
  {
   "cell_type": "code",
   "execution_count": 16,
   "metadata": {},
   "outputs": [
    {
     "name": "stderr",
     "output_type": "stream",
     "text": [
      "/home/laluprasadmahato@ADCNST.COM/Desktop/Projects/UdemyGenerativeAI/JanGenEnv/lib/python3.12/site-packages/langchain_google_genai/chat_models.py:353: UserWarning: Convert_system_message_to_human will be deprecated!\n",
      "  warnings.warn(\"Convert_system_message_to_human will be deprecated!\")\n"
     ]
    },
    {
     "name": "stdout",
     "output_type": "stream",
     "text": [
      "**Agentic AI**\n",
      "\n",
      "Agentic AI refers to artificial intelligence (AI) systems that are designed to act autonomously and make decisions like a human agent. These systems exhibit the following characteristics:\n",
      "\n",
      "**Autonomy:**\n",
      "* Can operate independently without human intervention.\n",
      "* Make decisions and take actions based on their own reasoning and understanding.\n",
      "\n",
      "**Goal-Oriented:**\n",
      "* Have specific objectives or goals they strive to achieve.\n",
      "* Plan and execute strategies to accomplish their tasks.\n",
      "\n",
      "**Adaptive:**\n",
      "* Can learn from their experiences and adjust their behavior accordingly.\n",
      "* Handle uncertainty and make informed decisions in changing environments.\n",
      "\n",
      "**Cognitive Capabilities:**\n",
      "* Possess reasoning, problem-solving, and decision-making abilities.\n",
      "* Can understand and interpret natural language and sensory data.\n",
      "\n",
      "**Examples of Agentic AI:**\n",
      "\n",
      "* **Self-Driving Cars:** Autonomously navigate roads, make decisions, and avoid obstacles.\n",
      "* **Virtual Assistants:** Provide personalized information, answer questions, and schedule appointments.\n",
      "* **Game-Playing Agents:** Play strategic games like chess or Go, using advanced decision-making algorithms.\n",
      "* **Medical Diagnosis Systems:** Analyze patient data and provide diagnostic suggestions.\n",
      "* **Resource Allocation Systems:** Optimize the distribution of resources in complex environments.\n",
      "\n",
      "**Benefits of Agentic AI:**\n",
      "\n",
      "* Increased efficiency and productivity\n",
      "* Reduced human error\n",
      "* Improved decision-making\n",
      "* Automation of complex tasks\n",
      "* Enhanced customer experiences\n",
      "\n",
      "**Challenges of Agentic AI:**\n",
      "\n",
      "* Ethical considerations related to autonomy and decision-making\n",
      "* Ensuring transparency and accountability\n",
      "* Addressing bias and fairness in decision-making\n",
      "* Scaling up and deploying agentic AI systems in real-world applications\n"
     ]
    }
   ],
   "source": [
    "from langchain_core.messages import HumanMessage, SystemMessage\n",
    "\n",
    "# Setup with system message conversion\n",
    "llm = ChatGoogleGenerativeAI(model='gemini-pro', convert_system_message_to_human=True)\n",
    "output = llm.invoke([\n",
    "    SystemMessage(content='You are a helpful assistant. Please give proper answer for the query asked.'),\n",
    "    HumanMessage(content='What is agentic ai?')\n",
    "])\n",
    "print(output.content)\n"
   ]
  },
  {
   "cell_type": "code",
   "execution_count": null,
   "metadata": {},
   "outputs": [],
   "source": []
  }
 ],
 "metadata": {
  "kernelspec": {
   "display_name": "JanGenEnv",
   "language": "python",
   "name": "python3"
  },
  "language_info": {
   "codemirror_mode": {
    "name": "ipython",
    "version": 3
   },
   "file_extension": ".py",
   "mimetype": "text/x-python",
   "name": "python",
   "nbconvert_exporter": "python",
   "pygments_lexer": "ipython3",
   "version": "3.12.4"
  }
 },
 "nbformat": 4,
 "nbformat_minor": 2
}
