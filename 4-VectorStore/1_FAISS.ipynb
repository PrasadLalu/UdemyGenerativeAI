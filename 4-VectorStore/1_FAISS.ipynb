{
 "cells": [
  {
   "cell_type": "markdown",
   "metadata": {},
   "source": [
    "### FAISS"
   ]
  },
  {
   "cell_type": "code",
   "execution_count": 15,
   "metadata": {},
   "outputs": [
    {
     "name": "stderr",
     "output_type": "stream",
     "text": [
      "Created a chunk of size 470, which is longer than the specified 200\n",
      "Created a chunk of size 347, which is longer than the specified 200\n",
      "Created a chunk of size 668, which is longer than the specified 200\n",
      "Created a chunk of size 982, which is longer than the specified 200\n",
      "Created a chunk of size 789, which is longer than the specified 200\n"
     ]
    },
    {
     "data": {
      "text/plain": [
       "[Document(metadata={'source': '../datasets/speech.txt'}, page_content='The world must be made safe for democracy. Its peace must be planted upon the tested foundations of political liberty. We have no selfish ends to serve. We desire no conquest, no dominion. We seek no indemnities for ourselves, no material compensation for the sacrifices we shall freely make. We are but one of the champions of the rights of mankind. We shall be satisfied when those rights have been made as secure as the faith and the freedom of nations can make them.'),\n",
       " Document(metadata={'source': '../datasets/speech.txt'}, page_content='Just because we fight without rancor and without selfish object, seeking nothing for ourselves but what we shall wish to share with all free peoples, we shall, I feel confident, conduct our operations as belligerents without passion and ourselves observe with proud punctilio the principles of right and of fair play we profess to be fighting for.'),\n",
       " Document(metadata={'source': '../datasets/speech.txt'}, page_content='…'),\n",
       " Document(metadata={'source': '../datasets/speech.txt'}, page_content='It will be all the easier for us to conduct ourselves as belligerents in a high spirit of right and fairness because we act without animus, not in enmity toward a people or with the desire to bring any injury or disadvantage upon them, but only in armed opposition to an irresponsible government which has thrown aside all considerations of humanity and of right and is running amuck. We are, let me say again, the sincere friends of the German people, and shall desire nothing so much as the early reestablishment of intimate relations of mutual advantage between us—however hard it may be for them, for the time being, to believe that this is spoken from our hearts.'),\n",
       " Document(metadata={'source': '../datasets/speech.txt'}, page_content='We have borne with their present government through all these bitter months because of that friendship—exercising a patience and forbearance which would otherwise have been impossible. We shall, happily, still have an opportunity to prove that friendship in our daily attitude and actions toward the millions of men and women of German birth and native sympathy who live among us and share our life, and we shall be proud to prove it toward all who are in fact loyal to their neighbors and to the government in the hour of test. They are, most of them, as true and loyal Americans as if they had never known any other fealty or allegiance. They will be prompt to stand with us in rebuking and restraining the few who may be of a different mind and purpose. If there should be disloyalty, it will be dealt with with a firm hand of stern repression; but, if it lifts its head at all, it will lift it only here and there and without countenance except from a lawless and malignant few.'),\n",
       " Document(metadata={'source': '../datasets/speech.txt'}, page_content='It is a distressing and oppressive duty, gentlemen of the Congress, which I have performed in thus addressing you. There are, it may be, many months of fiery trial and sacrifice ahead of us. It is a fearful thing to lead this great peaceful people into war, into the most terrible and disastrous of all wars, civilization itself seeming to be in the balance. But the right is more precious than peace, and we shall fight for the things which we have always carried nearest our hearts—for democracy, for the right of those who submit to authority to have a voice in their own governments, for the rights and liberties of small nations, for a universal dominion of right by such a concert of free peoples as shall bring peace and safety to all nations and make the world itself at last free.'),\n",
       " Document(metadata={'source': '../datasets/speech.txt'}, page_content='To such a task we can dedicate our lives and our fortunes, everything that we are and everything that we have, with the pride of those who know that the day has come when America is privileged to spend her blood and her might for the principles that gave her birth and happiness and the peace which she has treasured. God helping her, she can do no other.')]"
      ]
     },
     "execution_count": 15,
     "metadata": {},
     "output_type": "execute_result"
    }
   ],
   "source": [
    "from langchain_community.document_loaders import TextLoader\n",
    "from langchain_text_splitters import CharacterTextSplitter\n",
    "\n",
    "# Load the text\n",
    "text_loader = TextLoader('../datasets/speech.txt')\n",
    "text_documents = text_loader.load()\n",
    "\n",
    "# Split the text\n",
    "text_splitter = CharacterTextSplitter(separator=\"\\n\\n\", chunk_size=200, chunk_overlap=30)\n",
    "docs = text_splitter.split_documents(text_documents)\n",
    "docs"
   ]
  },
  {
   "cell_type": "code",
   "execution_count": 17,
   "metadata": {},
   "outputs": [
    {
     "data": {
      "text/plain": [
       "HuggingFaceEmbeddings(model_name='sentence-transformers/all-MiniLM-L6-v2', cache_folder=None, model_kwargs={}, encode_kwargs={}, multi_process=False, show_progress=False)"
      ]
     },
     "execution_count": 17,
     "metadata": {},
     "output_type": "execute_result"
    }
   ],
   "source": [
    "from langchain_huggingface import HuggingFaceEmbeddings\n",
    "embeddings = HuggingFaceEmbeddings(model_name=\"sentence-transformers/all-MiniLM-L6-v2\")\n",
    "embeddings"
   ]
  },
  {
   "cell_type": "code",
   "execution_count": 18,
   "metadata": {},
   "outputs": [],
   "source": [
    "from langchain_community.vectorstores import FAISS\n",
    "\n",
    "db = FAISS.from_documents(embedding=embeddings, documents=docs)"
   ]
  },
  {
   "cell_type": "code",
   "execution_count": 21,
   "metadata": {},
   "outputs": [
    {
     "data": {
      "text/plain": [
       "[Document(id='6e0d8cbe-f7c5-4c14-bfed-3d396a507ccb', metadata={'source': '../datasets/speech.txt'}, page_content='Just because we fight without rancor and without selfish object, seeking nothing for ourselves but what we shall wish to share with all free peoples, we shall, I feel confident, conduct our operations as belligerents without passion and ourselves observe with proud punctilio the principles of right and of fair play we profess to be fighting for.'),\n",
       " Document(id='7d39130f-c4c1-46a5-987d-a0aec5aaf763', metadata={'source': '../datasets/speech.txt'}, page_content='It is a distressing and oppressive duty, gentlemen of the Congress, which I have performed in thus addressing you. There are, it may be, many months of fiery trial and sacrifice ahead of us. It is a fearful thing to lead this great peaceful people into war, into the most terrible and disastrous of all wars, civilization itself seeming to be in the balance. But the right is more precious than peace, and we shall fight for the things which we have always carried nearest our hearts—for democracy, for the right of those who submit to authority to have a voice in their own governments, for the rights and liberties of small nations, for a universal dominion of right by such a concert of free peoples as shall bring peace and safety to all nations and make the world itself at last free.'),\n",
       " Document(id='d5a9c51e-4f4b-49b0-a4e4-8b1341136db2', metadata={'source': '../datasets/speech.txt'}, page_content='It will be all the easier for us to conduct ourselves as belligerents in a high spirit of right and fairness because we act without animus, not in enmity toward a people or with the desire to bring any injury or disadvantage upon them, but only in armed opposition to an irresponsible government which has thrown aside all considerations of humanity and of right and is running amuck. We are, let me say again, the sincere friends of the German people, and shall desire nothing so much as the early reestablishment of intimate relations of mutual advantage between us—however hard it may be for them, for the time being, to believe that this is spoken from our hearts.'),\n",
       " Document(id='a2b87eb4-e86f-4bdb-b299-52785743f303', metadata={'source': '../datasets/speech.txt'}, page_content='The world must be made safe for democracy. Its peace must be planted upon the tested foundations of political liberty. We have no selfish ends to serve. We desire no conquest, no dominion. We seek no indemnities for ourselves, no material compensation for the sacrifices we shall freely make. We are but one of the champions of the rights of mankind. We shall be satisfied when those rights have been made as secure as the faith and the freedom of nations can make them.')]"
      ]
     },
     "execution_count": 21,
     "metadata": {},
     "output_type": "execute_result"
    }
   ],
   "source": [
    "# Query from FAISS\n",
    "query = \"How does the speaker describe the desired outcome of the war?\"\n",
    "results = db.similarity_search(query)\n",
    "results "
   ]
  },
  {
   "cell_type": "code",
   "execution_count": 22,
   "metadata": {},
   "outputs": [
    {
     "data": {
      "text/plain": [
       "'Just because we fight without rancor and without selfish object, seeking nothing for ourselves but what we shall wish to share with all free peoples, we shall, I feel confident, conduct our operations as belligerents without passion and ourselves observe with proud punctilio the principles of right and of fair play we profess to be fighting for.'"
      ]
     },
     "execution_count": 22,
     "metadata": {},
     "output_type": "execute_result"
    }
   ],
   "source": [
    "results[0].page_content"
   ]
  },
  {
   "cell_type": "markdown",
   "metadata": {},
   "source": [
    "### FAISS as a Retriever"
   ]
  },
  {
   "cell_type": "code",
   "execution_count": 23,
   "metadata": {},
   "outputs": [
    {
     "data": {
      "text/plain": [
       "[Document(id='6e0d8cbe-f7c5-4c14-bfed-3d396a507ccb', metadata={'source': '../datasets/speech.txt'}, page_content='Just because we fight without rancor and without selfish object, seeking nothing for ourselves but what we shall wish to share with all free peoples, we shall, I feel confident, conduct our operations as belligerents without passion and ourselves observe with proud punctilio the principles of right and of fair play we profess to be fighting for.'),\n",
       " Document(id='7d39130f-c4c1-46a5-987d-a0aec5aaf763', metadata={'source': '../datasets/speech.txt'}, page_content='It is a distressing and oppressive duty, gentlemen of the Congress, which I have performed in thus addressing you. There are, it may be, many months of fiery trial and sacrifice ahead of us. It is a fearful thing to lead this great peaceful people into war, into the most terrible and disastrous of all wars, civilization itself seeming to be in the balance. But the right is more precious than peace, and we shall fight for the things which we have always carried nearest our hearts—for democracy, for the right of those who submit to authority to have a voice in their own governments, for the rights and liberties of small nations, for a universal dominion of right by such a concert of free peoples as shall bring peace and safety to all nations and make the world itself at last free.'),\n",
       " Document(id='d5a9c51e-4f4b-49b0-a4e4-8b1341136db2', metadata={'source': '../datasets/speech.txt'}, page_content='It will be all the easier for us to conduct ourselves as belligerents in a high spirit of right and fairness because we act without animus, not in enmity toward a people or with the desire to bring any injury or disadvantage upon them, but only in armed opposition to an irresponsible government which has thrown aside all considerations of humanity and of right and is running amuck. We are, let me say again, the sincere friends of the German people, and shall desire nothing so much as the early reestablishment of intimate relations of mutual advantage between us—however hard it may be for them, for the time being, to believe that this is spoken from our hearts.'),\n",
       " Document(id='a2b87eb4-e86f-4bdb-b299-52785743f303', metadata={'source': '../datasets/speech.txt'}, page_content='The world must be made safe for democracy. Its peace must be planted upon the tested foundations of political liberty. We have no selfish ends to serve. We desire no conquest, no dominion. We seek no indemnities for ourselves, no material compensation for the sacrifices we shall freely make. We are but one of the champions of the rights of mankind. We shall be satisfied when those rights have been made as secure as the faith and the freedom of nations can make them.')]"
      ]
     },
     "execution_count": 23,
     "metadata": {},
     "output_type": "execute_result"
    }
   ],
   "source": [
    "retriever = db.as_retriever()\n",
    "results = retriever.invoke(query)\n",
    "results"
   ]
  },
  {
   "cell_type": "code",
   "execution_count": 24,
   "metadata": {},
   "outputs": [
    {
     "data": {
      "text/plain": [
       "'Just because we fight without rancor and without selfish object, seeking nothing for ourselves but what we shall wish to share with all free peoples, we shall, I feel confident, conduct our operations as belligerents without passion and ourselves observe with proud punctilio the principles of right and of fair play we profess to be fighting for.'"
      ]
     },
     "execution_count": 24,
     "metadata": {},
     "output_type": "execute_result"
    }
   ],
   "source": [
    "results[0].page_content"
   ]
  },
  {
   "cell_type": "markdown",
   "metadata": {},
   "source": [
    "### Similarity Search with Score"
   ]
  },
  {
   "cell_type": "code",
   "execution_count": 25,
   "metadata": {},
   "outputs": [
    {
     "data": {
      "text/plain": [
       "[(Document(id='6e0d8cbe-f7c5-4c14-bfed-3d396a507ccb', metadata={'source': '../datasets/speech.txt'}, page_content='Just because we fight without rancor and without selfish object, seeking nothing for ourselves but what we shall wish to share with all free peoples, we shall, I feel confident, conduct our operations as belligerents without passion and ourselves observe with proud punctilio the principles of right and of fair play we profess to be fighting for.'),\n",
       "  np.float32(1.1921043)),\n",
       " (Document(id='7d39130f-c4c1-46a5-987d-a0aec5aaf763', metadata={'source': '../datasets/speech.txt'}, page_content='It is a distressing and oppressive duty, gentlemen of the Congress, which I have performed in thus addressing you. There are, it may be, many months of fiery trial and sacrifice ahead of us. It is a fearful thing to lead this great peaceful people into war, into the most terrible and disastrous of all wars, civilization itself seeming to be in the balance. But the right is more precious than peace, and we shall fight for the things which we have always carried nearest our hearts—for democracy, for the right of those who submit to authority to have a voice in their own governments, for the rights and liberties of small nations, for a universal dominion of right by such a concert of free peoples as shall bring peace and safety to all nations and make the world itself at last free.'),\n",
       "  np.float32(1.2962338)),\n",
       " (Document(id='d5a9c51e-4f4b-49b0-a4e4-8b1341136db2', metadata={'source': '../datasets/speech.txt'}, page_content='It will be all the easier for us to conduct ourselves as belligerents in a high spirit of right and fairness because we act without animus, not in enmity toward a people or with the desire to bring any injury or disadvantage upon them, but only in armed opposition to an irresponsible government which has thrown aside all considerations of humanity and of right and is running amuck. We are, let me say again, the sincere friends of the German people, and shall desire nothing so much as the early reestablishment of intimate relations of mutual advantage between us—however hard it may be for them, for the time being, to believe that this is spoken from our hearts.'),\n",
       "  np.float32(1.4375126)),\n",
       " (Document(id='a2b87eb4-e86f-4bdb-b299-52785743f303', metadata={'source': '../datasets/speech.txt'}, page_content='The world must be made safe for democracy. Its peace must be planted upon the tested foundations of political liberty. We have no selfish ends to serve. We desire no conquest, no dominion. We seek no indemnities for ourselves, no material compensation for the sacrifices we shall freely make. We are but one of the champions of the rights of mankind. We shall be satisfied when those rights have been made as secure as the faith and the freedom of nations can make them.'),\n",
       "  np.float32(1.4424489))]"
      ]
     },
     "execution_count": 25,
     "metadata": {},
     "output_type": "execute_result"
    }
   ],
   "source": [
    "docs_and_score = db.similarity_search_with_score(query)\n",
    "docs_and_score"
   ]
  },
  {
   "cell_type": "markdown",
   "metadata": {},
   "source": [
    "### Search from Vector "
   ]
  },
  {
   "cell_type": "code",
   "execution_count": 27,
   "metadata": {},
   "outputs": [
    {
     "data": {
      "text/plain": [
       "[-0.04968956857919693,\n",
       " 0.10655160993337631,\n",
       " 0.0015431051142513752,\n",
       " -0.013194359838962555,\n",
       " -0.04438779130578041,\n",
       " 0.058573197573423386,\n",
       " 0.04666461423039436,\n",
       " -0.024530624970793724,\n",
       " 0.0048294514417648315,\n",
       " 0.020339949056506157,\n",
       " -0.03410933539271355,\n",
       " 0.03873791545629501,\n",
       " 0.01661892980337143,\n",
       " -0.018834849819540977,\n",
       " -0.007143030408769846,\n",
       " 0.0069800871424376965,\n",
       " 0.02085007354617119,\n",
       " -0.035205353051424026,\n",
       " 0.004866402596235275,\n",
       " -0.007269794121384621,\n",
       " 0.07890865206718445,\n",
       " 0.05607707425951958,\n",
       " 0.06984831392765045,\n",
       " 0.016556641086935997,\n",
       " 0.013394498266279697,\n",
       " -0.012157362885773182,\n",
       " -0.020828327164053917,\n",
       " 0.05277485027909279,\n",
       " -0.020383480936288834,\n",
       " 0.026147622615098953,\n",
       " 0.04590855538845062,\n",
       " -0.017534706741571426,\n",
       " 0.016683528199791908,\n",
       " 0.002140551805496216,\n",
       " 0.006523000542074442,\n",
       " 0.00139174098148942,\n",
       " -0.054171785712242126,\n",
       " -0.016581496223807335,\n",
       " -0.01163148507475853,\n",
       " -0.020481357350945473,\n",
       " -0.05291870981454849,\n",
       " -0.03948398679494858,\n",
       " 0.016547998413443565,\n",
       " 0.04053490236401558,\n",
       " 0.01660848595201969,\n",
       " -0.008588059805333614,\n",
       " -0.07194804400205612,\n",
       " -0.02081827074289322,\n",
       " 0.03431752696633339,\n",
       " 0.06002296134829521,\n",
       " 0.0038370753172785044,\n",
       " -0.026614991948008537,\n",
       " -0.04209902882575989,\n",
       " -0.008091997355222702,\n",
       " 0.0241200253367424,\n",
       " 0.018459515646100044,\n",
       " -0.0007198797538876534,\n",
       " -0.015244492329657078,\n",
       " 0.05227896571159363,\n",
       " -0.0636531338095665,\n",
       " -0.06733892112970352,\n",
       " -0.03578978404402733,\n",
       " -0.03221793472766876,\n",
       " 0.03813052177429199,\n",
       " 0.08011659979820251,\n",
       " -0.09226547181606293,\n",
       " 0.06047753244638443,\n",
       " 0.00508337514474988,\n",
       " -0.14830133318901062,\n",
       " 0.03461495041847229,\n",
       " 0.034969426691532135,\n",
       " 0.005888357292860746,\n",
       " 0.034817103296518326,\n",
       " -0.027088353410363197,\n",
       " -0.03882376104593277,\n",
       " -0.07303415983915329,\n",
       " 0.06783777475357056,\n",
       " 0.03408125415444374,\n",
       " 0.06795389205217361,\n",
       " 0.029749175533652306,\n",
       " -0.002425975864753127,\n",
       " 0.04780042544007301,\n",
       " -0.05470485985279083,\n",
       " -0.0013395464047789574,\n",
       " 0.04844912141561508,\n",
       " -0.06261464953422546,\n",
       " 0.03335799276828766,\n",
       " -0.03339585289359093,\n",
       " 0.09458702057600021,\n",
       " 0.017070092260837555,\n",
       " -0.11008676886558533,\n",
       " -0.07153696566820145,\n",
       " 0.00047837133752182126,\n",
       " 0.08610857278108597,\n",
       " 0.0010622942354530096,\n",
       " 0.10451003164052963,\n",
       " 0.039007656276226044,\n",
       " -0.04562617838382721,\n",
       " -0.006680398713797331,\n",
       " 0.03852366283535957,\n",
       " 0.0852799192070961,\n",
       " -0.052721694111824036,\n",
       " -0.009765218943357468,\n",
       " -0.12066511064767838,\n",
       " -0.05246085673570633,\n",
       " -0.09266543388366699,\n",
       " -0.11859233677387238,\n",
       " 0.011005149222910404,\n",
       " -0.08697866648435593,\n",
       " -0.02126302197575569,\n",
       " -0.07697580009698868,\n",
       " -0.06261380016803741,\n",
       " 0.05563938990235329,\n",
       " -0.002956341952085495,\n",
       " 0.026580071076750755,\n",
       " 0.04864494875073433,\n",
       " 0.01041173655539751,\n",
       " -0.05376353859901428,\n",
       " -0.049150243401527405,\n",
       " 0.00969004351645708,\n",
       " 0.02343129552900791,\n",
       " -0.02910269796848297,\n",
       " -0.037017256021499634,\n",
       " 0.03960447385907173,\n",
       " -0.10435162484645844,\n",
       " -0.0040333326905965805,\n",
       " 0.016636516898870468,\n",
       " -6.36961009649845e-33,\n",
       " 0.008836467750370502,\n",
       " -0.08554961532354355,\n",
       " -0.022776130586862564,\n",
       " 0.09592987596988678,\n",
       " -0.0341053232550621,\n",
       " -0.06610922515392303,\n",
       " -0.018170997500419617,\n",
       " -0.012800770811736584,\n",
       " 0.03468906506896019,\n",
       " 0.01622719131410122,\n",
       " -0.0887022390961647,\n",
       " 0.01136265229433775,\n",
       " -0.01730654574930668,\n",
       " 0.07740609347820282,\n",
       " -0.013215317390859127,\n",
       " -0.04684646800160408,\n",
       " -0.1255597174167633,\n",
       " 0.11586085706949234,\n",
       " -0.024001069366931915,\n",
       " -0.0022806692868471146,\n",
       " -0.007758134976029396,\n",
       " 0.07176676392555237,\n",
       " -0.011153588071465492,\n",
       " -0.05099565535783768,\n",
       " 0.09885235875844955,\n",
       " -0.024501647800207138,\n",
       " -0.02693833038210869,\n",
       " -0.04688764363527298,\n",
       " -0.07213155925273895,\n",
       " 0.02164170704782009,\n",
       " 0.015326695516705513,\n",
       " 0.05237613990902901,\n",
       " -0.011739521287381649,\n",
       " -0.07739462703466415,\n",
       " 0.03386292979121208,\n",
       " 0.00438471557572484,\n",
       " -0.08467362821102142,\n",
       " 0.034191492944955826,\n",
       " -0.0459534153342247,\n",
       " -0.016092177480459213,\n",
       " -0.007048869505524635,\n",
       " 0.03298019617795944,\n",
       " -0.04627719148993492,\n",
       " 0.05843992531299591,\n",
       " 0.11373346298933029,\n",
       " -0.018407944589853287,\n",
       " -0.031529609113931656,\n",
       " 0.008662676438689232,\n",
       " -0.08288112282752991,\n",
       " 0.00786773581057787,\n",
       " 0.02066916786134243,\n",
       " -0.038477443158626556,\n",
       " -0.010940798558294773,\n",
       " -0.02171749249100685,\n",
       " 0.06240147724747658,\n",
       " 0.01067162211984396,\n",
       " 0.0037418785504996777,\n",
       " 0.03862818703055382,\n",
       " -0.0763152688741684,\n",
       " -0.07029000669717789,\n",
       " 0.08373190462589264,\n",
       " -0.024051012471318245,\n",
       " 0.00454678013920784,\n",
       " 0.017261212691664696,\n",
       " 0.005986069794744253,\n",
       " -0.000654226285405457,\n",
       " -0.07095975428819656,\n",
       " -0.04204284027218819,\n",
       " -0.010355235077440739,\n",
       " -0.001950892386958003,\n",
       " -0.02845819480717182,\n",
       " -0.0052864402532577515,\n",
       " 0.021145198494195938,\n",
       " -0.0487191304564476,\n",
       " -0.06939789652824402,\n",
       " 0.027359655126929283,\n",
       " 0.03149428218603134,\n",
       " 0.015950508415699005,\n",
       " 0.00896640308201313,\n",
       " -0.07781247794628143,\n",
       " -0.02462148666381836,\n",
       " 0.008865386247634888,\n",
       " -0.011971913278102875,\n",
       " 0.042665787041187286,\n",
       " 0.026071002706885338,\n",
       " 0.009536011144518852,\n",
       " 0.018895909190177917,\n",
       " -0.16765503585338593,\n",
       " -0.00869542546570301,\n",
       " -0.011096097528934479,\n",
       " -0.024971140548586845,\n",
       " 0.018924733623862267,\n",
       " 0.0019128406420350075,\n",
       " 0.021822981536388397,\n",
       " -0.005207381676882505,\n",
       " 3.1027834605526616e-33,\n",
       " -0.025049908086657524,\n",
       " 0.08713040500879288,\n",
       " -0.03531033918261528,\n",
       " 0.013343418017029762,\n",
       " -0.020747985690832138,\n",
       " 0.03208637237548828,\n",
       " -0.0012192163849249482,\n",
       " -0.06633257120847702,\n",
       " 0.0012947700452059507,\n",
       " 0.008377593010663986,\n",
       " -0.0538104847073555,\n",
       " -0.009143742732703686,\n",
       " 0.013526380062103271,\n",
       " 0.0755545124411583,\n",
       " -0.09260722249746323,\n",
       " 0.003982951864600182,\n",
       " 0.11045368760824203,\n",
       " -0.04073803871870041,\n",
       " 0.05483685061335564,\n",
       " 0.011620022356510162,\n",
       " 0.02446933463215828,\n",
       " 0.03903299570083618,\n",
       " -0.04429919645190239,\n",
       " -0.025401948019862175,\n",
       " 0.02841709367930889,\n",
       " -0.0004603751003742218,\n",
       " 0.08898746967315674,\n",
       " -0.05340215936303139,\n",
       " -0.06847112625837326,\n",
       " -0.04701080173254013,\n",
       " 0.06081133335828781,\n",
       " -0.12055225670337677,\n",
       " -0.10110342502593994,\n",
       " 0.08338989317417145,\n",
       " 0.08778926730155945,\n",
       " 0.06426264345645905,\n",
       " 0.12884439527988434,\n",
       " -0.016380149871110916,\n",
       " -0.008810505270957947,\n",
       " 0.010351455770432949,\n",
       " -0.0010263877920806408,\n",
       " -0.0739436149597168,\n",
       " -0.04147733747959137,\n",
       " 0.06341861933469772,\n",
       " -0.06482363492250443,\n",
       " -0.018655924126505852,\n",
       " 0.023472066968679428,\n",
       " 0.00730771804228425,\n",
       " 0.038197968155145645,\n",
       " -0.04428873583674431,\n",
       " 0.0489673912525177,\n",
       " 0.052819736301898956,\n",
       " -0.025685379281640053,\n",
       " 0.06258337944746017,\n",
       " -0.0724131390452385,\n",
       " -0.06950845569372177,\n",
       " -0.04242737963795662,\n",
       " -0.11369175463914871,\n",
       " 0.028540674597024918,\n",
       " 0.06412240117788315,\n",
       " -0.09406904876232147,\n",
       " 0.007396704982966185,\n",
       " 0.019351260736584663,\n",
       " -0.01314282976090908,\n",
       " -0.030121218413114548,\n",
       " -0.01866079308092594,\n",
       " -0.0658930316567421,\n",
       " 0.017889520153403282,\n",
       " 0.09260284900665283,\n",
       " 0.05105120316147804,\n",
       " 0.021899303421378136,\n",
       " 0.0063423956744372845,\n",
       " -0.060390155762434006,\n",
       " 0.011234122328460217,\n",
       " 0.11327596753835678,\n",
       " -0.021105239167809486,\n",
       " 0.01192125491797924,\n",
       " -0.04652685299515724,\n",
       " -0.08982115983963013,\n",
       " 0.0362788662314415,\n",
       " -0.03888561949133873,\n",
       " -0.010799293406307697,\n",
       " -0.018644874915480614,\n",
       " -0.003877817653119564,\n",
       " -0.04751799628138542,\n",
       " -0.005650315899401903,\n",
       " -0.01665242202579975,\n",
       " 0.027878548949956894,\n",
       " 0.05258626490831375,\n",
       " 0.012349412776529789,\n",
       " -0.008337515406310558,\n",
       " -0.04975001886487007,\n",
       " 0.03504406288266182,\n",
       " -0.015523383393883705,\n",
       " -0.02887866646051407,\n",
       " -2.0085870744424028e-08,\n",
       " -0.037324048578739166,\n",
       " 0.030643928796052933,\n",
       " 0.0552438460290432,\n",
       " 0.0231547299772501,\n",
       " -0.06826378405094147,\n",
       " -0.013425258919596672,\n",
       " 0.002992487046867609,\n",
       " -0.09045083075761795,\n",
       " 0.00235825777053833,\n",
       " 0.005629702936857939,\n",
       " 0.026615068316459656,\n",
       " 0.08618815243244171,\n",
       " -0.009790975600481033,\n",
       " 0.06753555685281754,\n",
       " -0.006173260975629091,\n",
       " 0.11162048578262329,\n",
       " 0.012379124760627747,\n",
       " 0.0009826978202909231,\n",
       " -0.053609706461429596,\n",
       " -0.041837070137262344,\n",
       " 0.07604702562093735,\n",
       " 0.009298971854150295,\n",
       " -0.030828865244984627,\n",
       " -0.020871464163064957,\n",
       " 0.031941600143909454,\n",
       " 0.06118462607264519,\n",
       " -0.022117214277386665,\n",
       " 0.04554178938269615,\n",
       " -0.019856922328472137,\n",
       " 0.11220898479223251,\n",
       " 0.039232999086380005,\n",
       " 0.07998444139957428,\n",
       " -0.07817382365465164,\n",
       " -0.052918728440999985,\n",
       " -0.05403349921107292,\n",
       " 0.09736302495002747,\n",
       " 0.0005143024027347565,\n",
       " -0.02971312776207924,\n",
       " 0.08892916142940521,\n",
       " -0.03440146520733833,\n",
       " 0.007020334713160992,\n",
       " 0.19277498126029968,\n",
       " 0.056821346282958984,\n",
       " 0.0648094043135643,\n",
       " 0.08113455027341843,\n",
       " 0.060763102024793625,\n",
       " -0.0037309254985302687,\n",
       " -0.004016435239464045,\n",
       " -0.03438616171479225,\n",
       " -0.03474358096718788,\n",
       " -0.017673633992671967,\n",
       " 0.009699598886072636,\n",
       " 0.004195394925773144,\n",
       " 0.06806441396474838,\n",
       " 0.037425488233566284,\n",
       " 0.00750341173261404,\n",
       " 0.04925696551799774,\n",
       " 0.027800386771559715,\n",
       " 0.033272236585617065,\n",
       " 0.062244024127721786,\n",
       " 0.030586162582039833,\n",
       " 0.054695528000593185,\n",
       " -0.015176304616034031,\n",
       " -0.010972733609378338]"
      ]
     },
     "execution_count": 27,
     "metadata": {},
     "output_type": "execute_result"
    }
   ],
   "source": [
    "embedding_vector = embeddings.embed_query(query)\n",
    "embedding_vector"
   ]
  },
  {
   "cell_type": "code",
   "execution_count": 28,
   "metadata": {},
   "outputs": [
    {
     "data": {
      "text/plain": [
       "[Document(id='6e0d8cbe-f7c5-4c14-bfed-3d396a507ccb', metadata={'source': '../datasets/speech.txt'}, page_content='Just because we fight without rancor and without selfish object, seeking nothing for ourselves but what we shall wish to share with all free peoples, we shall, I feel confident, conduct our operations as belligerents without passion and ourselves observe with proud punctilio the principles of right and of fair play we profess to be fighting for.'),\n",
       " Document(id='7d39130f-c4c1-46a5-987d-a0aec5aaf763', metadata={'source': '../datasets/speech.txt'}, page_content='It is a distressing and oppressive duty, gentlemen of the Congress, which I have performed in thus addressing you. There are, it may be, many months of fiery trial and sacrifice ahead of us. It is a fearful thing to lead this great peaceful people into war, into the most terrible and disastrous of all wars, civilization itself seeming to be in the balance. But the right is more precious than peace, and we shall fight for the things which we have always carried nearest our hearts—for democracy, for the right of those who submit to authority to have a voice in their own governments, for the rights and liberties of small nations, for a universal dominion of right by such a concert of free peoples as shall bring peace and safety to all nations and make the world itself at last free.'),\n",
       " Document(id='d5a9c51e-4f4b-49b0-a4e4-8b1341136db2', metadata={'source': '../datasets/speech.txt'}, page_content='It will be all the easier for us to conduct ourselves as belligerents in a high spirit of right and fairness because we act without animus, not in enmity toward a people or with the desire to bring any injury or disadvantage upon them, but only in armed opposition to an irresponsible government which has thrown aside all considerations of humanity and of right and is running amuck. We are, let me say again, the sincere friends of the German people, and shall desire nothing so much as the early reestablishment of intimate relations of mutual advantage between us—however hard it may be for them, for the time being, to believe that this is spoken from our hearts.'),\n",
       " Document(id='a2b87eb4-e86f-4bdb-b299-52785743f303', metadata={'source': '../datasets/speech.txt'}, page_content='The world must be made safe for democracy. Its peace must be planted upon the tested foundations of political liberty. We have no selfish ends to serve. We desire no conquest, no dominion. We seek no indemnities for ourselves, no material compensation for the sacrifices we shall freely make. We are but one of the champions of the rights of mankind. We shall be satisfied when those rights have been made as secure as the faith and the freedom of nations can make them.')]"
      ]
     },
     "execution_count": 28,
     "metadata": {},
     "output_type": "execute_result"
    }
   ],
   "source": [
    "docs_score = db.similarity_search_by_vector(embedding_vector)\n",
    "docs_score"
   ]
  },
  {
   "cell_type": "code",
   "execution_count": 29,
   "metadata": {},
   "outputs": [
    {
     "data": {
      "text/plain": [
       "'Just because we fight without rancor and without selfish object, seeking nothing for ourselves but what we shall wish to share with all free peoples, we shall, I feel confident, conduct our operations as belligerents without passion and ourselves observe with proud punctilio the principles of right and of fair play we profess to be fighting for.'"
      ]
     },
     "execution_count": 29,
     "metadata": {},
     "output_type": "execute_result"
    }
   ],
   "source": [
    "docs_score[0].page_content"
   ]
  },
  {
   "cell_type": "markdown",
   "metadata": {},
   "source": [
    "### Save and Load"
   ]
  },
  {
   "cell_type": "code",
   "execution_count": 30,
   "metadata": {},
   "outputs": [],
   "source": [
    "# Save FAISS db\n",
    "db.save_local('faiss_index')"
   ]
  },
  {
   "cell_type": "code",
   "execution_count": 32,
   "metadata": {},
   "outputs": [
    {
     "data": {
      "text/plain": [
       "<langchain_community.vectorstores.faiss.FAISS at 0x7803431a7560>"
      ]
     },
     "execution_count": 32,
     "metadata": {},
     "output_type": "execute_result"
    }
   ],
   "source": [
    "# Load FAISS db\n",
    "new_db = db.load_local('faiss_index', embeddings, allow_dangerous_deserialization=True)\n",
    "new_db"
   ]
  },
  {
   "cell_type": "code",
   "execution_count": 33,
   "metadata": {},
   "outputs": [
    {
     "data": {
      "text/plain": [
       "[Document(id='6e0d8cbe-f7c5-4c14-bfed-3d396a507ccb', metadata={'source': '../datasets/speech.txt'}, page_content='Just because we fight without rancor and without selfish object, seeking nothing for ourselves but what we shall wish to share with all free peoples, we shall, I feel confident, conduct our operations as belligerents without passion and ourselves observe with proud punctilio the principles of right and of fair play we profess to be fighting for.'),\n",
       " Document(id='7d39130f-c4c1-46a5-987d-a0aec5aaf763', metadata={'source': '../datasets/speech.txt'}, page_content='It is a distressing and oppressive duty, gentlemen of the Congress, which I have performed in thus addressing you. There are, it may be, many months of fiery trial and sacrifice ahead of us. It is a fearful thing to lead this great peaceful people into war, into the most terrible and disastrous of all wars, civilization itself seeming to be in the balance. But the right is more precious than peace, and we shall fight for the things which we have always carried nearest our hearts—for democracy, for the right of those who submit to authority to have a voice in their own governments, for the rights and liberties of small nations, for a universal dominion of right by such a concert of free peoples as shall bring peace and safety to all nations and make the world itself at last free.'),\n",
       " Document(id='d5a9c51e-4f4b-49b0-a4e4-8b1341136db2', metadata={'source': '../datasets/speech.txt'}, page_content='It will be all the easier for us to conduct ourselves as belligerents in a high spirit of right and fairness because we act without animus, not in enmity toward a people or with the desire to bring any injury or disadvantage upon them, but only in armed opposition to an irresponsible government which has thrown aside all considerations of humanity and of right and is running amuck. We are, let me say again, the sincere friends of the German people, and shall desire nothing so much as the early reestablishment of intimate relations of mutual advantage between us—however hard it may be for them, for the time being, to believe that this is spoken from our hearts.'),\n",
       " Document(id='a2b87eb4-e86f-4bdb-b299-52785743f303', metadata={'source': '../datasets/speech.txt'}, page_content='The world must be made safe for democracy. Its peace must be planted upon the tested foundations of political liberty. We have no selfish ends to serve. We desire no conquest, no dominion. We seek no indemnities for ourselves, no material compensation for the sacrifices we shall freely make. We are but one of the champions of the rights of mankind. We shall be satisfied when those rights have been made as secure as the faith and the freedom of nations can make them.')]"
      ]
     },
     "execution_count": 33,
     "metadata": {},
     "output_type": "execute_result"
    }
   ],
   "source": [
    "results = new_db.similarity_search(query)\n",
    "results"
   ]
  },
  {
   "cell_type": "code",
   "execution_count": 34,
   "metadata": {},
   "outputs": [
    {
     "data": {
      "text/plain": [
       "'Just because we fight without rancor and without selfish object, seeking nothing for ourselves but what we shall wish to share with all free peoples, we shall, I feel confident, conduct our operations as belligerents without passion and ourselves observe with proud punctilio the principles of right and of fair play we profess to be fighting for.'"
      ]
     },
     "execution_count": 34,
     "metadata": {},
     "output_type": "execute_result"
    }
   ],
   "source": [
    "results[0].page_content"
   ]
  },
  {
   "cell_type": "code",
   "execution_count": null,
   "metadata": {},
   "outputs": [],
   "source": []
  }
 ],
 "metadata": {
  "kernelspec": {
   "display_name": "JanGenEnv",
   "language": "python",
   "name": "python3"
  },
  "language_info": {
   "codemirror_mode": {
    "name": "ipython",
    "version": 3
   },
   "file_extension": ".py",
   "mimetype": "text/x-python",
   "name": "python",
   "nbconvert_exporter": "python",
   "pygments_lexer": "ipython3",
   "version": "3.12.4"
  }
 },
 "nbformat": 4,
 "nbformat_minor": 2
}
