{
 "cells": [
  {
   "cell_type": "markdown",
   "metadata": {},
   "source": [
    "### Chroma VectorDB"
   ]
  },
  {
   "cell_type": "code",
   "execution_count": 1,
   "metadata": {},
   "outputs": [
    {
     "data": {
      "text/plain": [
       "[Document(metadata={'source': '../datasets/speech.txt'}, page_content='The world must be made safe for democracy. Its peace must be planted upon the tested foundations of'),\n",
       " Document(metadata={'source': '../datasets/speech.txt'}, page_content='political liberty. We have no selfish ends to serve. We desire no conquest, no dominion. We seek no'),\n",
       " Document(metadata={'source': '../datasets/speech.txt'}, page_content='indemnities for ourselves, no material compensation for the sacrifices we shall freely make. We are'),\n",
       " Document(metadata={'source': '../datasets/speech.txt'}, page_content='but one of the champions of the rights of mankind. We shall be satisfied when those rights have'),\n",
       " Document(metadata={'source': '../datasets/speech.txt'}, page_content='been made as secure as the faith and the freedom of nations can make them.'),\n",
       " Document(metadata={'source': '../datasets/speech.txt'}, page_content='Just because we fight without rancor and without selfish object, seeking nothing for ourselves but'),\n",
       " Document(metadata={'source': '../datasets/speech.txt'}, page_content='what we shall wish to share with all free peoples, we shall, I feel confident, conduct our'),\n",
       " Document(metadata={'source': '../datasets/speech.txt'}, page_content='operations as belligerents without passion and ourselves observe with proud punctilio the'),\n",
       " Document(metadata={'source': '../datasets/speech.txt'}, page_content='principles of right and of fair play we profess to be fighting for.'),\n",
       " Document(metadata={'source': '../datasets/speech.txt'}, page_content='…'),\n",
       " Document(metadata={'source': '../datasets/speech.txt'}, page_content='It will be all the easier for us to conduct ourselves as belligerents in a high spirit of right and'),\n",
       " Document(metadata={'source': '../datasets/speech.txt'}, page_content='fairness because we act without animus, not in enmity toward a people or with the desire to bring'),\n",
       " Document(metadata={'source': '../datasets/speech.txt'}, page_content='any injury or disadvantage upon them, but only in armed opposition to an irresponsible government'),\n",
       " Document(metadata={'source': '../datasets/speech.txt'}, page_content='which has thrown aside all considerations of humanity and of right and is running amuck. We are,'),\n",
       " Document(metadata={'source': '../datasets/speech.txt'}, page_content='let me say again, the sincere friends of the German people, and shall desire nothing so much as the'),\n",
       " Document(metadata={'source': '../datasets/speech.txt'}, page_content='early reestablishment of intimate relations of mutual advantage between us—however hard it may be'),\n",
       " Document(metadata={'source': '../datasets/speech.txt'}, page_content='for them, for the time being, to believe that this is spoken from our hearts.'),\n",
       " Document(metadata={'source': '../datasets/speech.txt'}, page_content='We have borne with their present government through all these bitter months because of that'),\n",
       " Document(metadata={'source': '../datasets/speech.txt'}, page_content='friendship—exercising a patience and forbearance which would otherwise have been impossible. We'),\n",
       " Document(metadata={'source': '../datasets/speech.txt'}, page_content='shall, happily, still have an opportunity to prove that friendship in our daily attitude and'),\n",
       " Document(metadata={'source': '../datasets/speech.txt'}, page_content='actions toward the millions of men and women of German birth and native sympathy who live among us'),\n",
       " Document(metadata={'source': '../datasets/speech.txt'}, page_content='and share our life, and we shall be proud to prove it toward all who are in fact loyal to their'),\n",
       " Document(metadata={'source': '../datasets/speech.txt'}, page_content='neighbors and to the government in the hour of test. They are, most of them, as true and loyal'),\n",
       " Document(metadata={'source': '../datasets/speech.txt'}, page_content='Americans as if they had never known any other fealty or allegiance. They will be prompt to stand'),\n",
       " Document(metadata={'source': '../datasets/speech.txt'}, page_content='with us in rebuking and restraining the few who may be of a different mind and purpose. If there'),\n",
       " Document(metadata={'source': '../datasets/speech.txt'}, page_content='should be disloyalty, it will be dealt with with a firm hand of stern repression; but, if it lifts'),\n",
       " Document(metadata={'source': '../datasets/speech.txt'}, page_content='its head at all, it will lift it only here and there and without countenance except from a lawless'),\n",
       " Document(metadata={'source': '../datasets/speech.txt'}, page_content='and malignant few.'),\n",
       " Document(metadata={'source': '../datasets/speech.txt'}, page_content='It is a distressing and oppressive duty, gentlemen of the Congress, which I have performed in thus'),\n",
       " Document(metadata={'source': '../datasets/speech.txt'}, page_content='addressing you. There are, it may be, many months of fiery trial and sacrifice ahead of us. It is a'),\n",
       " Document(metadata={'source': '../datasets/speech.txt'}, page_content='fearful thing to lead this great peaceful people into war, into the most terrible and disastrous of'),\n",
       " Document(metadata={'source': '../datasets/speech.txt'}, page_content='all wars, civilization itself seeming to be in the balance. But the right is more precious than'),\n",
       " Document(metadata={'source': '../datasets/speech.txt'}, page_content='peace, and we shall fight for the things which we have always carried nearest our hearts—for'),\n",
       " Document(metadata={'source': '../datasets/speech.txt'}, page_content='democracy, for the right of those who submit to authority to have a voice in their own governments,'),\n",
       " Document(metadata={'source': '../datasets/speech.txt'}, page_content='for the rights and liberties of small nations, for a universal dominion of right by such a concert'),\n",
       " Document(metadata={'source': '../datasets/speech.txt'}, page_content='of free peoples as shall bring peace and safety to all nations and make the world itself at last'),\n",
       " Document(metadata={'source': '../datasets/speech.txt'}, page_content='free.'),\n",
       " Document(metadata={'source': '../datasets/speech.txt'}, page_content='To such a task we can dedicate our lives and our fortunes, everything that we are and everything'),\n",
       " Document(metadata={'source': '../datasets/speech.txt'}, page_content='that we have, with the pride of those who know that the day has come when America is privileged to'),\n",
       " Document(metadata={'source': '../datasets/speech.txt'}, page_content='spend her blood and her might for the principles that gave her birth and happiness and the peace'),\n",
       " Document(metadata={'source': '../datasets/speech.txt'}, page_content='which she has treasured. God helping her, she can do no other.')]"
      ]
     },
     "execution_count": 1,
     "metadata": {},
     "output_type": "execute_result"
    }
   ],
   "source": [
    "from langchain_community.document_loaders import TextLoader\n",
    "from langchain_text_splitters import RecursiveCharacterTextSplitter\n",
    "\n",
    "# Load the documents\n",
    "text_loader = TextLoader('../datasets/speech.txt')\n",
    "text_documents = text_loader.load()\n",
    "\n",
    "# Split the documents\n",
    "text_splitter = RecursiveCharacterTextSplitter(chunk_size=100, chunk_overlap=0)\n",
    "documents = text_splitter.split_documents(text_documents)\n",
    "documents"
   ]
  },
  {
   "cell_type": "code",
   "execution_count": 2,
   "metadata": {},
   "outputs": [
    {
     "name": "stderr",
     "output_type": "stream",
     "text": [
      "/home/laluprasadmahato@ADCNST.COM/Desktop/Projects/UdemyGenerativeAI/JanGenEnv/lib/python3.12/site-packages/tqdm/auto.py:21: TqdmWarning: IProgress not found. Please update jupyter and ipywidgets. See https://ipywidgets.readthedocs.io/en/stable/user_install.html\n",
      "  from .autonotebook import tqdm as notebook_tqdm\n"
     ]
    },
    {
     "data": {
      "text/plain": [
       "HuggingFaceEmbeddings(model_name='sentence-transformers/all-MiniLM-L6-v2', cache_folder=None, model_kwargs={}, encode_kwargs={}, multi_process=False, show_progress=False)"
      ]
     },
     "execution_count": 2,
     "metadata": {},
     "output_type": "execute_result"
    }
   ],
   "source": [
    "from langchain_huggingface import HuggingFaceEmbeddings\n",
    "embeddings = HuggingFaceEmbeddings(model_name=\"sentence-transformers/all-MiniLM-L6-v2\")\n",
    "embeddings"
   ]
  },
  {
   "cell_type": "code",
   "execution_count": 3,
   "metadata": {},
   "outputs": [
    {
     "data": {
      "text/plain": [
       "<langchain_chroma.vectorstores.Chroma at 0x7b14be9ec7a0>"
      ]
     },
     "execution_count": 3,
     "metadata": {},
     "output_type": "execute_result"
    }
   ],
   "source": [
    "from langchain_chroma import Chroma\n",
    "\n",
    "chromadb = Chroma.from_documents(documents, embeddings)\n",
    "chromadb"
   ]
  },
  {
   "cell_type": "code",
   "execution_count": 4,
   "metadata": {},
   "outputs": [
    {
     "data": {
      "text/plain": [
       "[Document(metadata={'source': '../datasets/speech.txt'}, page_content='fearful thing to lead this great peaceful people into war, into the most terrible and disastrous of'),\n",
       " Document(metadata={'source': '../datasets/speech.txt'}, page_content='all wars, civilization itself seeming to be in the balance. But the right is more precious than'),\n",
       " Document(metadata={'source': '../datasets/speech.txt'}, page_content='political liberty. We have no selfish ends to serve. We desire no conquest, no dominion. We seek no'),\n",
       " Document(metadata={'source': '../datasets/speech.txt'}, page_content='principles of right and of fair play we profess to be fighting for.')]"
      ]
     },
     "execution_count": 4,
     "metadata": {},
     "output_type": "execute_result"
    }
   ],
   "source": [
    "query = \"How does the speaker describe the desired outcome of the war?\"\n",
    "results = chromadb.similarity_search(query)\n",
    "results "
   ]
  },
  {
   "cell_type": "code",
   "execution_count": 5,
   "metadata": {},
   "outputs": [
    {
     "data": {
      "text/plain": [
       "'fearful thing to lead this great peaceful people into war, into the most terrible and disastrous of'"
      ]
     },
     "execution_count": 5,
     "metadata": {},
     "output_type": "execute_result"
    }
   ],
   "source": [
    "results[0].page_content"
   ]
  },
  {
   "cell_type": "code",
   "execution_count": 6,
   "metadata": {},
   "outputs": [
    {
     "data": {
      "text/plain": [
       "[Document(metadata={'source': '../datasets/speech.txt'}, page_content='fearful thing to lead this great peaceful people into war, into the most terrible and disastrous of'),\n",
       " Document(metadata={'source': '../datasets/speech.txt'}, page_content='political liberty. We have no selfish ends to serve. We desire no conquest, no dominion. We seek no'),\n",
       " Document(metadata={'source': '../datasets/speech.txt'}, page_content='principles of right and of fair play we profess to be fighting for.'),\n",
       " Document(metadata={'source': '../datasets/speech.txt'}, page_content='all wars, civilization itself seeming to be in the balance. But the right is more precious than')]"
      ]
     },
     "execution_count": 6,
     "metadata": {},
     "output_type": "execute_result"
    }
   ],
   "source": [
    "# Query\n",
    "query = \"What does the speaker believe is the main reason the United States should enter the war?\"\n",
    "\n",
    "query_results = chromadb.similarity_search(query)\n",
    "query_results"
   ]
  },
  {
   "cell_type": "markdown",
   "metadata": {},
   "source": [
    "### ChromaDB as a Retriever"
   ]
  },
  {
   "cell_type": "code",
   "execution_count": 8,
   "metadata": {},
   "outputs": [
    {
     "data": {
      "text/plain": [
       "'fearful thing to lead this great peaceful people into war, into the most terrible and disastrous of'"
      ]
     },
     "execution_count": 8,
     "metadata": {},
     "output_type": "execute_result"
    }
   ],
   "source": [
    "retriever = chromadb.as_retriever()\n",
    "query_docs = retriever.invoke(query)\n",
    "query_docs[0].page_content"
   ]
  },
  {
   "cell_type": "markdown",
   "metadata": {},
   "source": [
    "### Based on Score"
   ]
  },
  {
   "cell_type": "code",
   "execution_count": 9,
   "metadata": {},
   "outputs": [
    {
     "data": {
      "text/plain": [
       "[(Document(metadata={'source': '../datasets/speech.txt'}, page_content='fearful thing to lead this great peaceful people into war, into the most terrible and disastrous of'),\n",
       "  1.1479679346084595),\n",
       " (Document(metadata={'source': '../datasets/speech.txt'}, page_content='political liberty. We have no selfish ends to serve. We desire no conquest, no dominion. We seek no'),\n",
       "  1.1490247249603271),\n",
       " (Document(metadata={'source': '../datasets/speech.txt'}, page_content='principles of right and of fair play we profess to be fighting for.'),\n",
       "  1.318261742591858),\n",
       " (Document(metadata={'source': '../datasets/speech.txt'}, page_content='all wars, civilization itself seeming to be in the balance. But the right is more precious than'),\n",
       "  1.336186408996582)]"
      ]
     },
     "execution_count": 9,
     "metadata": {},
     "output_type": "execute_result"
    }
   ],
   "source": [
    "score_docs = chromadb.similarity_search_with_score(query=query)\n",
    "score_docs"
   ]
  },
  {
   "cell_type": "markdown",
   "metadata": {},
   "source": [
    "### Save and Load"
   ]
  },
  {
   "cell_type": "code",
   "execution_count": 11,
   "metadata": {},
   "outputs": [
    {
     "data": {
      "text/plain": [
       "<langchain_chroma.vectorstores.Chroma at 0x7b14bc7ad670>"
      ]
     },
     "execution_count": 11,
     "metadata": {},
     "output_type": "execute_result"
    }
   ],
   "source": [
    "# Save \n",
    "Chroma.from_documents(documents=documents, embedding=embeddings, persist_directory=\"./chroma_database\")\n"
   ]
  },
  {
   "cell_type": "code",
   "execution_count": 12,
   "metadata": {},
   "outputs": [
    {
     "data": {
      "text/plain": [
       "<langchain_chroma.vectorstores.Chroma at 0x7b14bc7adbb0>"
      ]
     },
     "execution_count": 12,
     "metadata": {},
     "output_type": "execute_result"
    }
   ],
   "source": [
    "# Load\n",
    "newdb = Chroma(persist_directory=\"./chroma_database\", embedding_function=embeddings)\n",
    "newdb"
   ]
  },
  {
   "cell_type": "code",
   "execution_count": 13,
   "metadata": {},
   "outputs": [
    {
     "data": {
      "text/plain": [
       "[Document(metadata={'source': '../datasets/speech.txt'}, page_content='fearful thing to lead this great peaceful people into war, into the most terrible and disastrous of'),\n",
       " Document(metadata={'source': '../datasets/speech.txt'}, page_content='fearful thing to lead this great peaceful people into war, into the most terrible and disastrous of'),\n",
       " Document(metadata={'source': '../datasets/speech.txt'}, page_content='political liberty. We have no selfish ends to serve. We desire no conquest, no dominion. We seek no'),\n",
       " Document(metadata={'source': '../datasets/speech.txt'}, page_content='political liberty. We have no selfish ends to serve. We desire no conquest, no dominion. We seek no')]"
      ]
     },
     "execution_count": 13,
     "metadata": {},
     "output_type": "execute_result"
    }
   ],
   "source": [
    "query = \"What does the speaker believe is the main reason the United States should enter the war?\"\n",
    "\n",
    "query_results = newdb.similarity_search(query)\n",
    "query_results"
   ]
  },
  {
   "cell_type": "code",
   "execution_count": 14,
   "metadata": {},
   "outputs": [
    {
     "data": {
      "text/plain": [
       "'fearful thing to lead this great peaceful people into war, into the most terrible and disastrous of'"
      ]
     },
     "execution_count": 14,
     "metadata": {},
     "output_type": "execute_result"
    }
   ],
   "source": [
    "results[0].page_content"
   ]
  },
  {
   "cell_type": "code",
   "execution_count": null,
   "metadata": {},
   "outputs": [],
   "source": []
  }
 ],
 "metadata": {
  "kernelspec": {
   "display_name": "JanGenEnv",
   "language": "python",
   "name": "python3"
  },
  "language_info": {
   "codemirror_mode": {
    "name": "ipython",
    "version": 3
   },
   "file_extension": ".py",
   "mimetype": "text/x-python",
   "name": "python",
   "nbconvert_exporter": "python",
   "pygments_lexer": "ipython3",
   "version": "3.12.4"
  }
 },
 "nbformat": 4,
 "nbformat_minor": 2
}
